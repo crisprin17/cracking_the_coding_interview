{
 "cells": [
  {
   "cell_type": "markdown",
   "metadata": {},
   "source": [
    "# Exercise 1: rotate a huge list\n",
    "\n",
    "I want to learn some big words so people think I'm smart.\n",
    "\n",
    "I opened up a dictionary to a page in the middle and started flipping through, looking for words I didn't know. I put each word I didn't know at increasing indices in a huge list I created in memory. When I reached the end of the dictionary, I started from the beginning and did the same thing until I reached the page I started at.\n",
    "\n",
    "Now I have a list of words that are mostly alphabetical, except they start somewhere in the middle of the alphabet, reach the end, and then start from the beginning of the alphabet. In other words, this is an alphabetically ordered list that has been \"rotated.\" For example:"
   ]
  },
  {
   "cell_type": "code",
   "execution_count": 3,
   "metadata": {},
   "outputs": [],
   "source": [
    "words = [\n",
    "    'ptolemaic',\n",
    "    'retrograde',\n",
    "    'supplant',\n",
    "    'undulate',\n",
    "    'xenoepist',\n",
    "    'aaaaa',\n",
    "    'abc',\n",
    "    'asymptote',  # <-- rotates here!\n",
    "    'babka',\n",
    "    'banoffee',\n",
    "    'engender',\n",
    "    'karpatka',\n",
    "    'othellolagkage'\n",
    "]"
   ]
  },
  {
   "cell_type": "markdown",
   "metadata": {},
   "source": [
    "Write a function for finding the index of the \"rotation point,\" which is where I started working from the beginning of the dictionary. This list is huge (there are lots of words I don't know) so we want to be efficient here."
   ]
  },
  {
   "cell_type": "markdown",
   "metadata": {},
   "source": [
    "Binary search teaches us that when a list is sorted or mostly sorted:\n",
    "\n",
    "1. The value at a given index tells us a lot about what's to the left and what's to the right.\n",
    "\n",
    "2. We don't have to look at every item in the list. By inspecting the middle item, we can \"rule out\" half of the list.\n",
    "\n",
    "3. We can use this approach over and over, cutting the problem in half until we have the answer. This is sometimes called \"divide and conquer.\""
   ]
  },
  {
   "cell_type": "code",
   "execution_count": 4,
   "metadata": {},
   "outputs": [],
   "source": [
    "def middle_point(list_of_words: list) -> tuple:\n",
    "    middle_index = len(list_of_words) // 2 - 1\n",
    "    middle_value = list_of_words[middle_index]\n",
    "    return (middle_index, middle_value)\n",
    "\n",
    "\n",
    "def find_rotation_point(list_of_words: list) -> int:\n",
    "    \n",
    "    start_value = list_of_words[0]\n",
    "    middle_index, middle_value = middle_point(list_of_words)\n",
    "    print(middle_index, middle_value)\n",
    "    \n",
    "    if middle_value == start_value:\n",
    "        return middle_index, middle_value\n",
    "\n",
    "    elif middle_value > start_value:\n",
    "        find_rotation_point(list_of_words[:middle_index])\n",
    "        \n",
    "    elif middle_value > start_value:\n",
    "        find_rotation_point(list_of_words[middle_index:])\n"
   ]
  },
  {
   "cell_type": "code",
   "execution_count": 5,
   "metadata": {},
   "outputs": [
    {
     "name": "stdout",
     "output_type": "stream",
     "text": [
      "5 aaaaa\n"
     ]
    }
   ],
   "source": [
    "find_rotation_point(words)"
   ]
  },
  {
   "cell_type": "markdown",
   "metadata": {},
   "source": [
    "# Sort and Rank the player"
   ]
  },
  {
   "cell_type": "markdown",
   "metadata": {},
   "source": [
    "Write a function that takes:\n",
    "\n",
    "1. a list of unsorted_scores\n",
    "2. the highest_possible_score in the game\n",
    "\n",
    "and returns a sorted list of scores in less than O(nlgn) time.\n",
    "\n",
    "\n",
    "**Solution: COUNTING sort**\n",
    "Counting sort is a sorting technique based on keys between a specific range. It works by counting the number of objects having distinct key values (kind of hashing). Then doing some arithmetic to calculate the position of each object in the output sequence."
   ]
  },
  {
   "cell_type": "code",
   "execution_count": 79,
   "metadata": {},
   "outputs": [],
   "source": [
    "unsorted_scores = [37, 89, 41, 41, 65, 91, 53, 77, 88]\n",
    "HIGHEST_POSSIBLE_SCORE = 100"
   ]
  },
  {
   "cell_type": "code",
   "execution_count": 78,
   "metadata": {},
   "outputs": [],
   "source": [
    "unsorted_scores = [3, 9, 1, 1, 6, 5, 4]\n",
    "HIGHEST_POSSIBLE_SCORE = 10"
   ]
  },
  {
   "cell_type": "code",
   "execution_count": 84,
   "metadata": {},
   "outputs": [],
   "source": [
    "def create_counted_list(unsorted_score: list, HIGHEST_POSSIBLE_SCORE: int) -> list:\n",
    "    counted_list = [0] * (HIGHEST_POSSIBLE_SCORE)\n",
    "    \n",
    "    for item in unsorted_score:\n",
    "        if counted_list[item] == 0:\n",
    "            counted_list[item] = 1\n",
    "        else:\n",
    "            counted_list[item] += 1 \n",
    "            \n",
    "    return counted_list\n",
    "\n",
    "\n",
    "def modify_counted_list(counted_list: list) -> list:\n",
    "    \n",
    "    for index in range(1, len(counted_list)):\n",
    "        counted_list[index] += counted_list[index - 1]\n",
    "        \n",
    "    return counted_list\n",
    "\n",
    "\n",
    "def create_sorted_score(unsorted_score: list, counted_list: list) -> list:\n",
    "    \n",
    "    sorted_score = [0] * (len(unsorted_score) + 1)\n",
    "    \n",
    "    for value in unsorted_score:\n",
    "        number_to_position = counted_list[value]\n",
    "        sorted_score[number_to_position] = value\n",
    "        counted_list[value] -= 1\n",
    "        \n",
    "    return sorted_score[1:]\n",
    "\n",
    "\n",
    "def counting_sort_algorithm(unsorted_score: list, HIGHEST_POSSIBLE_SCORE: int) -> list:\n",
    "    # I step: create a count array\n",
    "    # index is the value of unsorted, value is the count\n",
    "    counted_list = create_counted_list(unsorted_score, HIGHEST_POSSIBLE_SCORE)\n",
    "    \n",
    "    # II step: modify count array\n",
    "    # summing the previous value\n",
    "    counted_list = modify_counted_list(counted_list)\n",
    "    \n",
    "    # III step: take unsorted array value, put it as index in the counted list[]\n",
    "    # take the value from counted list -> i will use the value as location \n",
    "    # in the output array \n",
    "    # subract one from count\n",
    "    sorted_list = create_sorted_score(unsorted_score, counted_list)\n",
    "    \n",
    "    return sorted_list"
   ]
  },
  {
   "cell_type": "code",
   "execution_count": 85,
   "metadata": {},
   "outputs": [
    {
     "data": {
      "text/plain": [
       "[37, 41, 41, 53, 65, 77, 88, 89, 91]"
      ]
     },
     "execution_count": 85,
     "metadata": {},
     "output_type": "execute_result"
    }
   ],
   "source": [
    "counting_sort_algorithm(unsorted_scores, HIGHEST_POSSIBLE_SCORE)"
   ]
  },
  {
   "cell_type": "code",
   "execution_count": null,
   "metadata": {},
   "outputs": [],
   "source": []
  }
 ],
 "metadata": {
  "kernelspec": {
   "display_name": "Python 3",
   "language": "python",
   "name": "python3"
  },
  "language_info": {
   "codemirror_mode": {
    "name": "ipython",
    "version": 3
   },
   "file_extension": ".py",
   "mimetype": "text/x-python",
   "name": "python",
   "nbconvert_exporter": "python",
   "pygments_lexer": "ipython3",
   "version": "3.8.2"
  }
 },
 "nbformat": 4,
 "nbformat_minor": 4
}
