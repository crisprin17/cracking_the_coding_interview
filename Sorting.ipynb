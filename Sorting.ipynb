{
 "cells": [
  {
   "cell_type": "markdown",
   "metadata": {},
   "source": [
    "# Exercise 1: rotate a huge list\n",
    "\n",
    "I want to learn some big words so people think I'm smart.\n",
    "\n",
    "I opened up a dictionary to a page in the middle and started flipping through, looking for words I didn't know. I put each word I didn't know at increasing indices in a huge list I created in memory. When I reached the end of the dictionary, I started from the beginning and did the same thing until I reached the page I started at.\n",
    "\n",
    "Now I have a list of words that are mostly alphabetical, except they start somewhere in the middle of the alphabet, reach the end, and then start from the beginning of the alphabet. In other words, this is an alphabetically ordered list that has been \"rotated.\" For example:"
   ]
  },
  {
   "cell_type": "code",
   "execution_count": 29,
   "metadata": {},
   "outputs": [],
   "source": [
    "words = [\n",
    "    'ptolemaic',\n",
    "    'retrograde',\n",
    "    'supplant',\n",
    "    'undulate',\n",
    "    'xenoepist',\n",
    "    'aaaaa',\n",
    "    'abc',\n",
    "    'asymptote',  # <-- rotates here!\n",
    "    'babka',\n",
    "    'banoffee',\n",
    "    'engender',\n",
    "    'karpatka',\n",
    "    'othellolagkage'\n",
    "]"
   ]
  },
  {
   "cell_type": "markdown",
   "metadata": {},
   "source": [
    "Write a function for finding the index of the \"rotation point,\" which is where I started working from the beginning of the dictionary. This list is huge (there are lots of words I don't know) so we want to be efficient here."
   ]
  },
  {
   "cell_type": "markdown",
   "metadata": {},
   "source": [
    "Binary search teaches us that when a list is sorted or mostly sorted:\n",
    "\n",
    "1. The value at a given index tells us a lot about what's to the left and what's to the right.\n",
    "\n",
    "2. We don't have to look at every item in the list. By inspecting the middle item, we can \"rule out\" half of the list.\n",
    "\n",
    "3. We can use this approach over and over, cutting the problem in half until we have the answer. This is sometimes called \"divide and conquer.\""
   ]
  },
  {
   "cell_type": "code",
   "execution_count": 36,
   "metadata": {},
   "outputs": [],
   "source": [
    "def middle_point(list_of_words: list) -> tuple:\n",
    "    middle_index = len(list_of_words) // 2 - 1\n",
    "    middle_value = list_of_words[middle_index]\n",
    "    return (middle_index, middle_value)\n",
    "\n",
    "\n",
    "def find_rotation_point(list_of_words: list) -> int:\n",
    "    \n",
    "    start_value = list_of_words[0]\n",
    "    middle_index, middle_value = middle_point(list_of_words)\n",
    "    print(middle_index, middle_value)\n",
    "    \n",
    "    if middle_value == start_value:\n",
    "        return middle_index, middle_value\n",
    "\n",
    "    elif middle_value > start_value:\n",
    "        find_rotation_point(list_of_words[:middle_index])\n",
    "        \n",
    "    elif middle_value > start_value:\n",
    "        find_rotation_point(list_of_words[middle_index:])\n"
   ]
  },
  {
   "cell_type": "code",
   "execution_count": 37,
   "metadata": {},
   "outputs": [
    {
     "name": "stdout",
     "output_type": "stream",
     "text": [
      "5 aaaaa\n"
     ]
    }
   ],
   "source": [
    "find_rotation_point(words)"
   ]
  }
 ],
 "metadata": {
  "kernelspec": {
   "display_name": "Python 3",
   "language": "python",
   "name": "python3"
  },
  "language_info": {
   "codemirror_mode": {
    "name": "ipython",
    "version": 3
   },
   "file_extension": ".py",
   "mimetype": "text/x-python",
   "name": "python",
   "nbconvert_exporter": "python",
   "pygments_lexer": "ipython3",
   "version": "3.8.2"
  }
 },
 "nbformat": 4,
 "nbformat_minor": 4
}
