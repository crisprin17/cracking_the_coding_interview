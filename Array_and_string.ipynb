{
 "cells": [
  {
   "cell_type": "markdown",
   "metadata": {},
   "source": [
    "# Exercise 1: three lists, FIFO\n",
    "Given all three lists, write a function to check that my service is first-come, first-served. All food should come out in the same order customers requested it.\n",
    "\n",
    "We'll represent each customer order as a unique integer.\n",
    "\n",
    "\n",
    "**SOLUTION: POINTERS!!!**\n"
   ]
  },
  {
   "cell_type": "code",
   "execution_count": 194,
   "metadata": {},
   "outputs": [],
   "source": [
    "Take_Out_Orders =  [1, 3, 4, 7, 8, 9, 10]\n",
    "Dine_In_Orders = [2, 5, 6]"
   ]
  },
  {
   "cell_type": "code",
   "execution_count": 195,
   "metadata": {},
   "outputs": [],
   "source": [
    "def create_queue_order(take_out_order: list, dine_in_order: list) -> list:\n",
    "    \n",
    "    pointer_takeout = 0\n",
    "    pointer_dinein = 0\n",
    "    max_pointer_takeout = len(take_out_order)\n",
    "    max_pointer_dinein = len(dine_in_order)\n",
    "    \n",
    "    server_order = []\n",
    "    length_server_order = len(take_out_order) + len(dine_in_order) - 1\n",
    "    is_it_served_already = set()\n",
    "    \n",
    "    while len(server_order) <= length_server_order:\n",
    "        \n",
    "        if (pointer_takeout < max_pointer_takeout) and (pointer_dinein < max_pointer_dinein):\n",
    "            customer_takeout = take_out_order[pointer_takeout]\n",
    "            customer_dinein = dine_in_order[pointer_dinein]\n",
    "            \n",
    "            if customer_takeout < customer_dinein:\n",
    "                server_order.append(customer_takeout)\n",
    "                is_it_served_already.add(customer_takeout)\n",
    "                pointer_takeout +=1\n",
    "        \n",
    "            else:\n",
    "                server_order.append(customer_dinein)\n",
    "                is_it_served_already.add(customer_dinein)\n",
    "                pointer_dinein += 1\n",
    "            \n",
    "        elif (pointer_dinein == max_pointer_dinein):\n",
    "            customer_takeout = take_out_order[pointer_takeout]\n",
    "            if customer_takeout not in is_it_served_already:\n",
    "                server_order.append(customer_takeout)\n",
    "                is_it_served_already.add(customer_takeout)\n",
    "                pointer_takeout +=1\n",
    "                \n",
    "        elif (pointer_takeout == max_pointer_takeout): \n",
    "            customer_dinein = dine_in_order[pointer_dinein]\n",
    "            if customer_dinein not in is_it_served_already:\n",
    "                server_order.append(customer_dinein)\n",
    "                is_it_served_already.add(customer_dinein)\n",
    "                pointer_dinein += 1\n",
    "    \n",
    "    print(server_order)\n",
    "    return server_order\n",
    " "
   ]
  },
  {
   "cell_type": "code",
   "execution_count": 196,
   "metadata": {},
   "outputs": [
    {
     "name": "stdout",
     "output_type": "stream",
     "text": [
      "[1, 2, 3, 4, 5, 6, 7, 8, 9, 10]\n"
     ]
    }
   ],
   "source": [
    "Served_Orders = create_queue_order(Take_Out_Orders, Dine_In_Orders)"
   ]
  },
  {
   "cell_type": "markdown",
   "metadata": {},
   "source": [
    "# Exercise 2: Reverse a string in place\n",
    "Write a function reverse_words() that takes a message as a list of characters and reverses the order of the words in place"
   ]
  },
  {
   "cell_type": "code",
   "execution_count": 95,
   "metadata": {},
   "outputs": [
    {
     "name": "stdout",
     "output_type": "stream",
     "text": [
      "cake pound steal\n"
     ]
    }
   ],
   "source": [
    "message = [ 'c', 'a', 'k', 'e', ' ',\n",
    "            'p', 'o', 'u', 'n', 'd', ' ',\n",
    "            's', 't', 'e', 'a', 'l' ]\n",
    "\n",
    "\n",
    "# Prints: 'steal pound cake'\n",
    "print(''.join(message))"
   ]
  },
  {
   "cell_type": "code",
   "execution_count": 96,
   "metadata": {},
   "outputs": [],
   "source": [
    "def reverse_characters(message, left_index, right_index):\n",
    "    # Walk towards the middle, from both sides\n",
    "    while left_index < right_index:\n",
    "        # Swap the left char and right char\n",
    "        message[left_index], message[right_index] = message[right_index], message[left_index]\n",
    "        left_index  += 1\n",
    "        right_index -= 1"
   ]
  },
  {
   "cell_type": "code",
   "execution_count": 97,
   "metadata": {},
   "outputs": [],
   "source": [
    "def reverse_string_inplace(message: list) -> list:\n",
    "    reverse_characters(message, 0, len(message) -1)\n",
    "    \n",
    "    first_word_index = 0\n",
    "    for i in range(len(message) + 1):\n",
    "        # Found the end of the current word!\n",
    "        if (i == len(message)) or (message[i] == ' '):\n",
    "            reverse_characters(message, first_word_index, i - 1)\n",
    "            # If we haven't exhausted the message our\n",
    "            # next word's start is one character ahead\n",
    "            first_word_index = i + 1\n",
    "\n",
    "\n"
   ]
  },
  {
   "cell_type": "code",
   "execution_count": 98,
   "metadata": {},
   "outputs": [
    {
     "name": "stdout",
     "output_type": "stream",
     "text": [
      "steal pound cake\n"
     ]
    }
   ],
   "source": [
    "reverse_string_inplace(message)\n",
    "# Prints: 'steal pound cake'\n",
    "print(''.join(message))"
   ]
  },
  {
   "cell_type": "code",
   "execution_count": null,
   "metadata": {},
   "outputs": [],
   "source": []
  }
 ],
 "metadata": {
  "kernelspec": {
   "display_name": "Python 3",
   "language": "python",
   "name": "python3"
  },
  "language_info": {
   "codemirror_mode": {
    "name": "ipython",
    "version": 3
   },
   "file_extension": ".py",
   "mimetype": "text/x-python",
   "name": "python",
   "nbconvert_exporter": "python",
   "pygments_lexer": "ipython3",
   "version": "3.8.2"
  }
 },
 "nbformat": 4,
 "nbformat_minor": 4
}
