{
 "cells": [
  {
   "cell_type": "markdown",
   "metadata": {},
   "source": [
    "# Graphs\n",
    "\n",
    "A graph organizes items in an interconnected network.\n",
    "Each item is a **node** (or vertex). **Nodes** are connected by **edges**\n",
    "\n",
    "\n",
    "### Strengths:\n",
    "\n",
    "**Representing links.**\n",
    "\n",
    "Graphs are ideal for cases where you're working with things that connect to other things. Nodes and edges could, for example, respectively represent cities and highways, routers and ethernet cables, or Facebook users and their friendships.\n",
    "\n",
    "### Weaknesses:\n",
    "\n",
    "**Scaling challenges.**\n",
    "\n",
    "Most graph algorithms are **O(n*lg(n))** or even slower. Depending on the size of your graph, running algorithms across your nodes may not be feasible.\n",
    "\n"
   ]
  },
  {
   "cell_type": "markdown",
   "metadata": {},
   "source": [
    "# Terminology\n",
    "\n",
    "### Directed or undirected\n",
    "**In directed graphs**, edges point from the node at one end to the node at the other end. \n",
    "**In undirected graphs**, the edges simply connect the nodes at each end.\n",
    "\n",
    "### Cyclic or acyclic\n",
    "A graph is **cyclic** if it has a cycle—an unbroken series of nodes with no repeating nodes or edges that connects back to itself. \n",
    "Graphs without cycles are **acyclic**.\n",
    "\n",
    "### Weighted or unweighted\n",
    "If a graph is **weighted**, each edge has a \"weight.\" The weight could, for example, represent the distance between two locations, or the cost or time it takes to travel between the locations.\n",
    "\n"
   ]
  },
  {
   "cell_type": "markdown",
   "metadata": {},
   "source": [
    "# Depth-first search (BFS)\n",
    "DFS usually uses less space.\n"
   ]
  },
  {
   "cell_type": "markdown",
   "metadata": {},
   "source": [
    "```Algorithm DFS(Graph, vertex)\n",
    "    if vertex is already visited\n",
    "        return        \n",
    "    Mark vertex as visited.\n",
    "    // Perform some operation on vertex.\n",
    "    for all neighbors x of vertex\n",
    "        DFS(G, x)```"
   ]
  },
  {
   "cell_type": "markdown",
   "metadata": {},
   "source": [
    "## DFS: Connected Cell in a Grid: Matrix [n x m]\n",
    "Consider a matrix where each cell contains either a  or a  and any cell containing a  is called a filled cell. Two cells are said to be connected if they are adjacent to each other horizontally, vertically, or diagonally.\n",
    "\n",
    "If one or more filled cells are also connected, they form a region.\n",
    "\n",
    "### Function Description\n",
    "\n",
    "maxRegion has the following parameter(s):\n",
    "\n",
    "grid: a two dimensional array of integers\n",
    "\n",
    "The first line contains an integer, , the number of rows in the matrix, .\n",
    "The second line contains an integer, , the number of columns in the matrix.\n",
    "\n",
    "Each of the following  lines contains a row of  space-separated integers, .\n",
    "\n",
    "Output = int\n"
   ]
  },
  {
   "cell_type": "code",
   "execution_count": 62,
   "metadata": {},
   "outputs": [],
   "source": [
    "grid = [[1, 0, 0, 0, 1], \n",
    "        [0, 0, 1, 1, 0], \n",
    "        [0, 0, 1, 0, 0]]"
   ]
  },
  {
   "cell_type": "code",
   "execution_count": 63,
   "metadata": {},
   "outputs": [],
   "source": [
    "def solution(matrix):\n",
    "    result = 0\n",
    "    for i in range(len(matrix)):\n",
    "        for j in range(len(matrix[0])):\n",
    "            result = max(result, connected(matrix, i, j))  # 1\n",
    "    return result               \n",
    "\n",
    "\n",
    "def connected(matrix, i, j):\n",
    "    if not (0 <= i < len(matrix)) or not (0 <= j < len(matrix[0])):\n",
    "        return 0  # 1\n",
    " \n",
    "    if matrix[i][j] != 1:\n",
    "        return 0  # 2\n",
    " \n",
    "    result = 1  # 3\n",
    "    matrix[i][j] = 0  # 4\n",
    " \n",
    "    for ii in range(i-1, i+2):\n",
    "        for jj in range(j-1, j+2):\n",
    "            if i != ii or j != jj:\n",
    "                result += connected(matrix, ii, jj)  # 5\n",
    " \n",
    "    return result        \n",
    "    "
   ]
  },
  {
   "cell_type": "code",
   "execution_count": 64,
   "metadata": {},
   "outputs": [
    {
     "data": {
      "text/plain": [
       "4"
      ]
     },
     "execution_count": 64,
     "metadata": {},
     "output_type": "execute_result"
    }
   ],
   "source": [
    "solution(grid)"
   ]
  },
  {
   "cell_type": "code",
   "execution_count": 2,
   "metadata": {},
   "outputs": [
    {
     "data": {
      "text/plain": [
       "[[1, 0, 0, 1], [0, 1, 1, 0], [0, 1, 0, 0]]"
      ]
     },
     "execution_count": 2,
     "metadata": {},
     "output_type": "execute_result"
    }
   ],
   "source": [
    "grid"
   ]
  },
  {
   "cell_type": "markdown",
   "metadata": {},
   "source": [
    "# Breadth-first search (BFS)\n",
    "Remember: both BFS and DFS will eventually find a path if one exists. The difference between the two is:\n",
    "\n",
    "BFS always finds the shortest path.\n",
    "\n",
    "\n",
    "We're using a queue instead of a list because we want an efficient first-in-first-out (FIFO) structure with O(1) inserts and removes.\n",
    "If we used a list, appending would be O(1), but removing elements from the front would be O(n)."
   ]
  },
  {
   "cell_type": "code",
   "execution_count": 63,
   "metadata": {},
   "outputs": [],
   "source": [
    "# Doubly Ended Queue: operation O(1)\n",
    "from collections import deque\n",
    "\n",
    "def breath_first_search(graph, start_node, end_node):\n",
    "    # need to keep track of all the node that we visited\n",
    "    track_nodes = set() \n",
    "    track_nodes.add(start_node)\n",
    "    \n",
    "    node_to_visit = deque()\n",
    "    node_to_visit.append(start_node)\n",
    "    \n",
    "    # until we have seen it all\n",
    "    while len(node_to_visit) > 0:\n",
    "        \n",
    "        current_node = node_to_visit.popleft()\n",
    "        \n",
    "        # stop when we will find the end node\n",
    "        if current_node == end_node:\n",
    "            print('Found it!', current_node)\n",
    "            break\n",
    "        \n",
    "        for neighbor in graph[current_node]:\n",
    "            if neighbor not in track_nodes:\n",
    "                node_to_visit.append(neighbor)\n",
    "                track_nodes.add(neighbor)\n",
    "     \n",
    "    return node_to_visit, track_nodes"
   ]
  },
  {
   "cell_type": "code",
   "execution_count": 88,
   "metadata": {},
   "outputs": [],
   "source": [
    "def breath_first_search_get_path(graph, start_node, end_node):\n",
    "    # need to keep track of all the node that we visited\n",
    "    track_nodes = set() \n",
    "    track_nodes.add(start_node)\n",
    "    \n",
    "    node_to_visit = deque()\n",
    "    node_to_visit.append(start_node)\n",
    "    \n",
    "    # store how to we get to the path\n",
    "    how_we_reached_nodes = {start_node: None}\n",
    "    \n",
    "    # until we have seen it all\n",
    "    while len(node_to_visit) > 0:\n",
    "        \n",
    "        current_node = node_to_visit.popleft()\n",
    "        \n",
    "        # stop when we will find the end node\n",
    "        if current_node == end_node:\n",
    "            path = reconstruct_path(how_we_reached_nodes, end_node)\n",
    "            return path\n",
    "        \n",
    "        for neighbor in graph[current_node]:\n",
    "            if neighbor not in track_nodes:\n",
    "                node_to_visit.append(neighbor)\n",
    "                track_nodes.add(neighbor)\n",
    "                # Keep track of how we got to this node\n",
    "                how_we_reached_nodes[neighbor] = current_node"
   ]
  },
  {
   "cell_type": "code",
   "execution_count": 96,
   "metadata": {},
   "outputs": [],
   "source": [
    "def reconstruct_path(how_we_reached_nodes, end_node):\n",
    "    shortest_path = []\n",
    "\n",
    "    # Start from the end of the path and work backwards\n",
    "    current_node = end_node\n",
    "\n",
    "    while current_node:\n",
    "        print('current_node', current_node)\n",
    "        shortest_path.append(current_node)\n",
    "        print('how_we_reached_nodes', how_we_reached_nodes[current_node])\n",
    "        current_node = how_we_reached_nodes[current_node]\n",
    "\n",
    "    return shortest_path"
   ]
  },
  {
   "cell_type": "markdown",
   "metadata": {},
   "source": [
    "# Exercise 1: Shortest path\n",
    "You wrote a trendy new messaging app, MeshMessage, to get around flaky cell phone coverage.\n",
    "\n",
    "Instead of routing texts through cell towers, your app sends messages via the phones of nearby users, passing each message along from one phone to the next until it reaches the intended recipient. (Don't worry—the messages are encrypted while they're in transit.)\n",
    "\n",
    "Some friends have been using your service, and they're complaining that it takes a long time for messages to get delivered. After some preliminary debugging, you suspect messages might not be taking the most direct route from the sender to the recipient.\n",
    "\n",
    "Given information about active users on the network, find the shortest route for a message from one user (the sender) to another (the recipient). Return a list of users that make up this route."
   ]
  },
  {
   "cell_type": "code",
   "execution_count": 90,
   "metadata": {},
   "outputs": [],
   "source": [
    "  network = {\n",
    "    'Min'     : ['William', 'Jayden', 'Omar'],\n",
    "    'William' : ['Min', 'Noam'],\n",
    "    'Jayden'  : ['Min', 'Amelia', 'Ren', 'Noam'],\n",
    "    'Ren'     : ['Jayden', 'Omar'],\n",
    "    'Amelia'  : ['Jayden', 'Adam', 'Miguel'],\n",
    "    'Adam'    : ['Amelia', 'Miguel', 'Sofia', 'Lucas'],\n",
    "    'Miguel'  : ['Amelia', 'Adam', 'Liam', 'Nathan'],\n",
    "    'Noam'    : ['Nathan', 'Jayden', 'William'],\n",
    "    'Omar'    : ['Ren', 'Min', 'Scott']\n",
    "}"
   ]
  },
  {
   "cell_type": "code",
   "execution_count": 91,
   "metadata": {},
   "outputs": [
    {
     "data": {
      "text/plain": [
       "{'Min': ['William', 'Jayden', 'Omar'],\n",
       " 'William': ['Min', 'Noam'],\n",
       " 'Jayden': ['Min', 'Amelia', 'Ren', 'Noam'],\n",
       " 'Ren': ['Jayden', 'Omar'],\n",
       " 'Amelia': ['Jayden', 'Adam', 'Miguel'],\n",
       " 'Adam': ['Amelia', 'Miguel', 'Sofia', 'Lucas'],\n",
       " 'Miguel': ['Amelia', 'Adam', 'Liam', 'Nathan'],\n",
       " 'Noam': ['Nathan', 'Jayden', 'William'],\n",
       " 'Omar': ['Ren', 'Min', 'Scott']}"
      ]
     },
     "execution_count": 91,
     "metadata": {},
     "output_type": "execute_result"
    }
   ],
   "source": [
    "network"
   ]
  },
  {
   "cell_type": "markdown",
   "metadata": {},
   "source": [
    "### how do we find the shortest path from a start node to an end node in an unweighted, undirected graph?\n"
   ]
  },
  {
   "cell_type": "code",
   "execution_count": 97,
   "metadata": {},
   "outputs": [
    {
     "name": "stdout",
     "output_type": "stream",
     "text": [
      "current_node Adam\n",
      "how_we_reached_nodes Amelia\n",
      "current_node Amelia\n",
      "how_we_reached_nodes Jayden\n",
      "current_node Jayden\n",
      "how_we_reached_nodes None\n"
     ]
    }
   ],
   "source": [
    "path = breath_first_search_get_path(network, 'Jayden', 'Adam')"
   ]
  }
 ],
 "metadata": {
  "kernelspec": {
   "display_name": "Python 3",
   "language": "python",
   "name": "python3"
  },
  "language_info": {
   "codemirror_mode": {
    "name": "ipython",
    "version": 3
   },
   "file_extension": ".py",
   "mimetype": "text/x-python",
   "name": "python",
   "nbconvert_exporter": "python",
   "pygments_lexer": "ipython3",
   "version": "3.8.2"
  }
 },
 "nbformat": 4,
 "nbformat_minor": 4
}
