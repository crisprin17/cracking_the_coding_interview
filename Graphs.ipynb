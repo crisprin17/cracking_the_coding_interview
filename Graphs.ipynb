{
 "cells": [
  {
   "cell_type": "markdown",
   "metadata": {},
   "source": [
    "# Graphs\n",
    "\n",
    "A graph organizes items in an interconnected network.\n",
    "Each item is a **node** (or vertex). **Nodes** are connected by **edges**\n",
    "\n",
    "\n",
    "### Strengths:\n",
    "\n",
    "**Representing links.**\n",
    "\n",
    "Graphs are ideal for cases where you're working with things that connect to other things. Nodes and edges could, for example, respectively represent cities and highways, routers and ethernet cables, or Facebook users and their friendships.\n",
    "\n",
    "### Weaknesses:\n",
    "\n",
    "**Scaling challenges.**\n",
    "\n",
    "Most graph algorithms are **O(n*lg(n))** or even slower. Depending on the size of your graph, running algorithms across your nodes may not be feasible.\n",
    "\n",
    "# Terminology\n",
    "\n",
    "### Directed or undirected\n",
    "**In directed graphs**, edges point from the node at one end to the node at the other end. \n",
    "**In undirected graphs**, the edges simply connect the nodes at each end.\n",
    "\n",
    "### Cyclic or acyclic\n",
    "A graph is **cyclic** if it has a cycle—an unbroken series of nodes with no repeating nodes or edges that connects back to itself. \n",
    "Graphs without cycles are **acyclic**.\n",
    "\n",
    "### Weighted or unweighted\n",
    "If a graph is **weighted**, each edge has a \"weight.\" The weight could, for example, represent the distance between two locations, or the cost or time it takes to travel between the locations.\n",
    "\n"
   ]
  },
  {
   "cell_type": "markdown",
   "metadata": {},
   "source": [
    "# Depth-first search (BFS)\n",
    "DFS usually uses less space.\n"
   ]
  },
  {
   "cell_type": "markdown",
   "metadata": {},
   "source": [
    "# Breadth-first search (BFS)\n",
    "Remember: both BFS and DFS will eventually find a path if one exists. The difference between the two is:\n",
    "\n",
    "BFS always finds the shortest path.\n",
    "\n",
    "\n",
    "We're using a queue instead of a list because we want an efficient first-in-first-out (FIFO) structure with O(1) inserts and removes.\n",
    "If we used a list, appending would be O(1), but removing elements from the front would be O(n)."
   ]
  },
  {
   "cell_type": "code",
   "execution_count": 63,
   "metadata": {},
   "outputs": [],
   "source": [
    "# Doubly Ended Queue: operation O(1)\n",
    "from collections import deque\n",
    "\n",
    "def breath_first_search(graph, start_node, end_node):\n",
    "    # need to keep track of all the node that we visited\n",
    "    track_nodes = set() \n",
    "    track_nodes.add(start_node)\n",
    "    \n",
    "    node_to_visit = deque()\n",
    "    node_to_visit.append(start_node)\n",
    "    \n",
    "    # until we have seen it all\n",
    "    while len(node_to_visit) > 0:\n",
    "        \n",
    "        current_node = node_to_visit.popleft()\n",
    "        \n",
    "        # stop when we will find the end node\n",
    "        if current_node == end_node:\n",
    "            print('Found it!', current_node)\n",
    "            break\n",
    "        \n",
    "        for neighbor in graph[current_node]:\n",
    "            if neighbor not in track_nodes:\n",
    "                node_to_visit.append(neighbor)\n",
    "                track_nodes.add(neighbor)\n",
    "     \n",
    "    return node_to_visit, track_nodes"
   ]
  },
  {
   "cell_type": "code",
   "execution_count": 88,
   "metadata": {},
   "outputs": [],
   "source": [
    "def breath_first_search_get_path(graph, start_node, end_node):\n",
    "    # need to keep track of all the node that we visited\n",
    "    track_nodes = set() \n",
    "    track_nodes.add(start_node)\n",
    "    \n",
    "    node_to_visit = deque()\n",
    "    node_to_visit.append(start_node)\n",
    "    \n",
    "    # store how to we get to the path\n",
    "    how_we_reached_nodes = {start_node: None}\n",
    "    \n",
    "    # until we have seen it all\n",
    "    while len(node_to_visit) > 0:\n",
    "        \n",
    "        current_node = node_to_visit.popleft()\n",
    "        \n",
    "        # stop when we will find the end node\n",
    "        if current_node == end_node:\n",
    "            path = reconstruct_path(how_we_reached_nodes, end_node)\n",
    "            return path\n",
    "        \n",
    "        for neighbor in graph[current_node]:\n",
    "            if neighbor not in track_nodes:\n",
    "                node_to_visit.append(neighbor)\n",
    "                track_nodes.add(neighbor)\n",
    "                # Keep track of how we got to this node\n",
    "                how_we_reached_nodes[neighbor] = current_node"
   ]
  },
  {
   "cell_type": "code",
   "execution_count": 96,
   "metadata": {},
   "outputs": [],
   "source": [
    "def reconstruct_path(how_we_reached_nodes, end_node):\n",
    "    shortest_path = []\n",
    "\n",
    "    # Start from the end of the path and work backwards\n",
    "    current_node = end_node\n",
    "\n",
    "    while current_node:\n",
    "        print('current_node', current_node)\n",
    "        shortest_path.append(current_node)\n",
    "        print('how_we_reached_nodes', how_we_reached_nodes[current_node])\n",
    "        current_node = how_we_reached_nodes[current_node]\n",
    "\n",
    "    return shortest_path"
   ]
  },
  {
   "cell_type": "markdown",
   "metadata": {},
   "source": [
    "# Exercise 1: Shortest path\n",
    "You wrote a trendy new messaging app, MeshMessage, to get around flaky cell phone coverage.\n",
    "\n",
    "Instead of routing texts through cell towers, your app sends messages via the phones of nearby users, passing each message along from one phone to the next until it reaches the intended recipient. (Don't worry—the messages are encrypted while they're in transit.)\n",
    "\n",
    "Some friends have been using your service, and they're complaining that it takes a long time for messages to get delivered. After some preliminary debugging, you suspect messages might not be taking the most direct route from the sender to the recipient.\n",
    "\n",
    "Given information about active users on the network, find the shortest route for a message from one user (the sender) to another (the recipient). Return a list of users that make up this route."
   ]
  },
  {
   "cell_type": "code",
   "execution_count": 90,
   "metadata": {},
   "outputs": [],
   "source": [
    "  network = {\n",
    "    'Min'     : ['William', 'Jayden', 'Omar'],\n",
    "    'William' : ['Min', 'Noam'],\n",
    "    'Jayden'  : ['Min', 'Amelia', 'Ren', 'Noam'],\n",
    "    'Ren'     : ['Jayden', 'Omar'],\n",
    "    'Amelia'  : ['Jayden', 'Adam', 'Miguel'],\n",
    "    'Adam'    : ['Amelia', 'Miguel', 'Sofia', 'Lucas'],\n",
    "    'Miguel'  : ['Amelia', 'Adam', 'Liam', 'Nathan'],\n",
    "    'Noam'    : ['Nathan', 'Jayden', 'William'],\n",
    "    'Omar'    : ['Ren', 'Min', 'Scott']\n",
    "}"
   ]
  },
  {
   "cell_type": "code",
   "execution_count": 91,
   "metadata": {},
   "outputs": [
    {
     "data": {
      "text/plain": [
       "{'Min': ['William', 'Jayden', 'Omar'],\n",
       " 'William': ['Min', 'Noam'],\n",
       " 'Jayden': ['Min', 'Amelia', 'Ren', 'Noam'],\n",
       " 'Ren': ['Jayden', 'Omar'],\n",
       " 'Amelia': ['Jayden', 'Adam', 'Miguel'],\n",
       " 'Adam': ['Amelia', 'Miguel', 'Sofia', 'Lucas'],\n",
       " 'Miguel': ['Amelia', 'Adam', 'Liam', 'Nathan'],\n",
       " 'Noam': ['Nathan', 'Jayden', 'William'],\n",
       " 'Omar': ['Ren', 'Min', 'Scott']}"
      ]
     },
     "execution_count": 91,
     "metadata": {},
     "output_type": "execute_result"
    }
   ],
   "source": [
    "network"
   ]
  },
  {
   "cell_type": "markdown",
   "metadata": {},
   "source": [
    "### how do we find the shortest path from a start node to an end node in an unweighted, undirected graph?\n"
   ]
  },
  {
   "cell_type": "code",
   "execution_count": 97,
   "metadata": {},
   "outputs": [
    {
     "name": "stdout",
     "output_type": "stream",
     "text": [
      "current_node Adam\n",
      "how_we_reached_nodes Amelia\n",
      "current_node Amelia\n",
      "how_we_reached_nodes Jayden\n",
      "current_node Jayden\n",
      "how_we_reached_nodes None\n"
     ]
    }
   ],
   "source": [
    "path = breath_first_search_get_path(network, 'Jayden', 'Adam')"
   ]
  }
 ],
 "metadata": {
  "kernelspec": {
   "display_name": "Python 3",
   "language": "python",
   "name": "python3"
  },
  "language_info": {
   "codemirror_mode": {
    "name": "ipython",
    "version": 3
   },
   "file_extension": ".py",
   "mimetype": "text/x-python",
   "name": "python",
   "nbconvert_exporter": "python",
   "pygments_lexer": "ipython3",
   "version": "3.8.2"
  }
 },
 "nbformat": 4,
 "nbformat_minor": 4
}
