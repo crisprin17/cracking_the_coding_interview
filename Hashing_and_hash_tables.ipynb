{
 "cells": [
  {
   "cell_type": "markdown",
   "metadata": {},
   "source": [
    "# Exercise 1: build a Word Cloud (dictionary counter)"
   ]
  },
  {
   "cell_type": "markdown",
   "metadata": {},
   "source": [
    "Remeber: string in python are immutable, so you can't change them in place!\n",
    "\n",
    "message[first_index:index] does not take into account many possibility, so the best way to do this is actually counting word_length and do [first_index:first_index+word_length]\n",
    "\n",
    "\n",
    "What if there are two empty spaces??"
   ]
  },
  {
   "cell_type": "code",
   "execution_count": 75,
   "metadata": {},
   "outputs": [],
   "source": [
    "import string\n",
    "\n",
    "def add_word_to_dictionary(dictionary: dict, word: str) -> dict:\n",
    "    \n",
    "    if word.lower() in dictionary.keys():\n",
    "        dictionary[word.lower()] += 1\n",
    "    else:\n",
    "        dictionary[word.lower()] = 1\n",
    "        \n",
    "    return dictionary\n",
    "    \n",
    "\n",
    "def build_a_word_cloud2(message: str) -> dict:\n",
    "\n",
    "    word_cloud = {}\n",
    "    first_index = 0\n",
    "    word_lenght = 0\n",
    "    upper_words = {'I': 'i', 'W':'w'}\n",
    "    \n",
    "    for index, character in enumerate(message):\n",
    "        \n",
    "        if character in string.punctuation:\n",
    "            character = ' '\n",
    "\n",
    "        if character == ' ':\n",
    "            \n",
    "            word = message[first_index:first_index + word_lenght]\n",
    "            \n",
    "            word_lenght = 0\n",
    "            first_index = index + 1\n",
    "            \n",
    "            add_word_to_dictionary(dictionary=word_cloud, word=word)\n",
    "           \n",
    "        else:\n",
    "            word_lenght += 1\n",
    "\n",
    "    return word_cloud\n"
   ]
  },
  {
   "cell_type": "code",
   "execution_count": 79,
   "metadata": {},
   "outputs": [
    {
     "data": {
      "text/plain": [
       "{'i': 1,\n",
       " 'am': 1,\n",
       " 'builing': 1,\n",
       " 'a': 1,\n",
       " 'word': 4,\n",
       " 'cloud': 1,\n",
       " 'for': 1,\n",
       " '': 3,\n",
       " 'would': 1,\n",
       " 'this': 1,\n",
       " 'work': 1,\n",
       " 'what': 1,\n",
       " 'if': 1,\n",
       " 'someone': 1,\n",
       " 'is': 1,\n",
       " 'called': 1}"
      ]
     },
     "execution_count": 79,
     "metadata": {},
     "output_type": "execute_result"
    }
   ],
   "source": [
    "message = 'I am builing a word word cloud for Word!  Would this work? what if someone is called word-cloud'\n",
    "word_cloud2 = build_a_word_cloud2(message)\n",
    "word_cloud2"
   ]
  },
  {
   "cell_type": "markdown",
   "metadata": {},
   "source": [
    "# Exercise 2"
   ]
  },
  {
   "cell_type": "markdown",
   "metadata": {},
   "source": [
    "# Exercise 3"
   ]
  },
  {
   "cell_type": "markdown",
   "metadata": {},
   "source": [
    "# Exercise 4"
   ]
  },
  {
   "cell_type": "markdown",
   "metadata": {},
   "source": [
    "You created a game that is more popular than Angry Birds.\n",
    "\n",
    "Each round, players receive a score between 0 and 100, which you use to rank them from highest to lowest. So far you're using an algorithm that sorts in $$O(n\\lg{n})$$ time, but players are complaining that their rankings aren't updated fast enough. You need a faster sorting algorithm.\n",
    "\n",
    "Write a function that takes:\n",
    "\n",
    "  1. a list of unsorted_scores\n",
    "  2. the highest_possible_score in the game\n",
    " \n",
    "\n",
    "and returns a sorted list of scores in less than $$O(n\\lg{n})$$ time.\n",
    "\n",
    "For example:"
   ]
  },
  {
   "cell_type": "code",
   "execution_count": 17,
   "metadata": {},
   "outputs": [],
   "source": [
    "unsorted_scores = [37, 89, 41, 65, 91, 53]\n",
    "HIGHEST_POSSIBLE_SCORE = 100\n",
    "# Returns [91, 89, 65, 53, 41, 37]"
   ]
  },
  {
   "cell_type": "markdown",
   "metadata": {},
   "source": [
    "TimSort O(n lg{n}) time"
   ]
  },
  {
   "cell_type": "code",
   "execution_count": 22,
   "metadata": {},
   "outputs": [],
   "source": [
    "def sort_scores(unsorted_score: list, HIGHEST_POSSIBLE_SCORE: int) -> list:\n",
    "    \n",
    "    first_element = unsorted_score[0]\n",
    "    sorted_list = []\n",
    "    \n",
    "    for index, value in enumerate(unsorted_score[1:]):\n",
    "        print('value = ', value,' first element = ', first_element)\n",
    "        if value < first_element:\n",
    "            print('value is smaller. than first element')\n",
    "            sorted_list.append(value)\n",
    "        else:\n",
    "            print('first_element is smaller than value')\n",
    "            sorted_list.append(first_element)\n",
    "            first_element = value\n",
    "        \n",
    "        \n",
    "        \n",
    "    return sorted_list\n"
   ]
  },
  {
   "cell_type": "code",
   "execution_count": 23,
   "metadata": {},
   "outputs": [
    {
     "name": "stdout",
     "output_type": "stream",
     "text": [
      "value =  89  first element =  37\n",
      "first_element is smaller than value\n",
      "value =  41  first element =  89\n",
      "value is smaller. than first element\n",
      "value =  65  first element =  89\n",
      "value is smaller. than first element\n",
      "value =  91  first element =  89\n",
      "first_element is smaller than value\n",
      "value =  53  first element =  91\n",
      "value is smaller. than first element\n"
     ]
    },
    {
     "data": {
      "text/plain": [
       "[37, 41, 65, 89, 53]"
      ]
     },
     "execution_count": 23,
     "metadata": {},
     "output_type": "execute_result"
    }
   ],
   "source": [
    "sort_scores(unsorted_scores, HIGHEST_POSSIBLE_SCORE)"
   ]
  },
  {
   "cell_type": "code",
   "execution_count": null,
   "metadata": {},
   "outputs": [],
   "source": []
  }
 ],
 "metadata": {
  "kernelspec": {
   "display_name": "Python 3",
   "language": "python",
   "name": "python3"
  },
  "language_info": {
   "codemirror_mode": {
    "name": "ipython",
    "version": 3
   },
   "file_extension": ".py",
   "mimetype": "text/x-python",
   "name": "python",
   "nbconvert_exporter": "python",
   "pygments_lexer": "ipython3",
   "version": "3.8.2"
  }
 },
 "nbformat": 4,
 "nbformat_minor": 4
}
