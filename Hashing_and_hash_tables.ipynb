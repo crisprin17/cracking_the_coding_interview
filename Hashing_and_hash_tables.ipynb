{
 "cells": [
  {
   "cell_type": "markdown",
   "metadata": {},
   "source": [
    "# Exercise 1: build a Word Cloud (dictionary counter)"
   ]
  },
  {
   "cell_type": "markdown",
   "metadata": {},
   "source": [
    "Remeber: string in python are immutable, so you can't change them in place!\n",
    "\n",
    "message[first_index:index] does not take into account many possibility, so the best way to do this is actually counting word_length and do [first_index:first_index+word_length]\n",
    "\n",
    "\n",
    "What if there are two empty spaces??"
   ]
  },
  {
   "cell_type": "code",
   "execution_count": 75,
   "metadata": {},
   "outputs": [],
   "source": [
    "import string\n",
    "\n",
    "def add_word_to_dictionary(dictionary: dict, word: str) -> dict:\n",
    "    \n",
    "    if word.lower() in dictionary.keys():\n",
    "        dictionary[word.lower()] += 1\n",
    "    else:\n",
    "        dictionary[word.lower()] = 1\n",
    "        \n",
    "    return dictionary\n",
    "    \n",
    "\n",
    "def build_a_word_cloud2(message: str) -> dict:\n",
    "\n",
    "    word_cloud = {}\n",
    "    first_index = 0\n",
    "    word_lenght = 0\n",
    "    upper_words = {'I': 'i', 'W':'w'}\n",
    "    \n",
    "    for index, character in enumerate(message):\n",
    "        \n",
    "        if character in string.punctuation:\n",
    "            character = ' '\n",
    "\n",
    "        if character == ' ':\n",
    "            \n",
    "            word = message[first_index:first_index + word_lenght]\n",
    "            \n",
    "            word_lenght = 0\n",
    "            first_index = index + 1\n",
    "            \n",
    "            add_word_to_dictionary(dictionary=word_cloud, word=word)\n",
    "           \n",
    "        else:\n",
    "            word_lenght += 1\n",
    "\n",
    "    return word_cloud\n"
   ]
  },
  {
   "cell_type": "code",
   "execution_count": 79,
   "metadata": {},
   "outputs": [
    {
     "data": {
      "text/plain": [
       "{'i': 1,\n",
       " 'am': 1,\n",
       " 'builing': 1,\n",
       " 'a': 1,\n",
       " 'word': 4,\n",
       " 'cloud': 1,\n",
       " 'for': 1,\n",
       " '': 3,\n",
       " 'would': 1,\n",
       " 'this': 1,\n",
       " 'work': 1,\n",
       " 'what': 1,\n",
       " 'if': 1,\n",
       " 'someone': 1,\n",
       " 'is': 1,\n",
       " 'called': 1}"
      ]
     },
     "execution_count": 79,
     "metadata": {},
     "output_type": "execute_result"
    }
   ],
   "source": [
    "message = 'I am builing a word word cloud for Word!  Would this work? what if someone is called word-cloud'\n",
    "word_cloud2 = build_a_word_cloud2(message)\n",
    "word_cloud2"
   ]
  },
  {
   "cell_type": "markdown",
   "metadata": {},
   "source": [
    "# Exercise 2: Permutation of a palindrome\n",
    "\n",
    "Write an efficient function that checks whether any permutation of an input string is a palindrome."
   ]
  },
  {
   "cell_type": "code",
   "execution_count": 4,
   "metadata": {},
   "outputs": [],
   "source": [
    "from collections import Counter"
   ]
  },
  {
   "cell_type": "code",
   "execution_count": 48,
   "metadata": {},
   "outputs": [],
   "source": [
    "def even_string(counter_dict: dict) -> bool:\n",
    "    \n",
    "    for value in counter_dict.values():\n",
    "        if value % 2 != 0:\n",
    "            return False \n",
    "    return True\n",
    "\n",
    "\n",
    "def odd_string(counter_dict: dict) -> bool:\n",
    "    \n",
    "    counter = 0\n",
    "    \n",
    "    for value in counter_dict.values():\n",
    "        if value % 2 != 0:\n",
    "            counter += 1\n",
    "            \n",
    "    if (counter == 1): \n",
    "        return True\n",
    "    else: \n",
    "        return False\n",
    "\n",
    "    \n",
    "def permutation_of_palindrome(input_string: str) -> bool:\n",
    "    '''\n",
    "    takes an input string\n",
    "    Return: bool, true if string is palindrome\n",
    "    '''\n",
    "    counter_dict = Counter(input_string)\n",
    "    \n",
    "    if len(input_string) % 2 == 0:\n",
    "        return even_string(counter_dict)\n",
    "    else:\n",
    "        return odd_string(counter_dict)"
   ]
  },
  {
   "cell_type": "code",
   "execution_count": 63,
   "metadata": {},
   "outputs": [],
   "source": [
    "def is_palindrome_with_set(input_string: str) -> bool:\n",
    "    \n",
    "    unpaired_letter = set()\n",
    "    \n",
    "    for letter in input_string:\n",
    "        if letter in unpaired_letter:\n",
    "            unpaired_letter.remove(letter)\n",
    "        else:\n",
    "            unpaired_letter.add(letter)\n",
    "    \n",
    "    if len(unpaired_letter) < 2:\n",
    "        return True\n",
    "    else: \n",
    "        return False"
   ]
  },
  {
   "cell_type": "code",
   "execution_count": 72,
   "metadata": {},
   "outputs": [],
   "source": [
    "input_string = 'cahcabbe'\n",
    "is_palindrome = permutation_of_palindrome(input_string)\n"
   ]
  },
  {
   "cell_type": "code",
   "execution_count": 73,
   "metadata": {},
   "outputs": [
    {
     "data": {
      "text/plain": [
       "False"
      ]
     },
     "execution_count": 73,
     "metadata": {},
     "output_type": "execute_result"
    }
   ],
   "source": [
    "is_palindrome"
   ]
  },
  {
   "cell_type": "markdown",
   "metadata": {},
   "source": [
    "## Exercise 4; \n",
    " So you're building a feature for choosing two movies whose total runtimes will equal the exact flight length.\n",
    " Write a function that takes an integer flight_length (in minutes) and a list of integers movie_lengths (in minutes) and returns a boolean indicating whether there are two numbers in movie_lengths whose sum equals flight_length.\n",
    "\n",
    "When building your function:\n",
    "\n",
    "Assume your users will watch exactly two movies\n",
    "Don't make your users watch the same movie twice\n",
    "Optimize for runtime over memory"
   ]
  },
  {
   "cell_type": "code",
   "execution_count": 16,
   "metadata": {},
   "outputs": [],
   "source": [
    "flight_length = 250\n",
    "movie_length = [120, 63, 140, 90, 95, 88]\n"
   ]
  },
  {
   "cell_type": "code",
   "execution_count": 17,
   "metadata": {},
   "outputs": [],
   "source": [
    "def are_there_two_movies_equal_flight_lenght(flight_length: int, movie_length: list) -> bool:\n",
    "    '''\n",
    "    return bool: True if there are two movies of length = flight length\n",
    "    '''\n",
    "    movie_length_dict = {}\n",
    "    \n",
    "    for time in movie_length:\n",
    "        if time in movie_length_dict.values():\n",
    "            print('you can watch two movies')\n",
    "            return True\n",
    "        else:\n",
    "            movie_length_dict[time] = flight_length - time\n",
    "    \n",
    "    return False"
   ]
  },
  {
   "cell_type": "code",
   "execution_count": 18,
   "metadata": {},
   "outputs": [
    {
     "data": {
      "text/plain": [
       "False"
      ]
     },
     "execution_count": 18,
     "metadata": {},
     "output_type": "execute_result"
    }
   ],
   "source": [
    "are_there_two_movies_equal_flight_lenght(flight_length, movie_length)"
   ]
  },
  {
   "cell_type": "code",
   "execution_count": null,
   "metadata": {},
   "outputs": [],
   "source": [
    "# for duplicate use set"
   ]
  }
 ],
 "metadata": {
  "kernelspec": {
   "display_name": "Python 3",
   "language": "python",
   "name": "python3"
  },
  "language_info": {
   "codemirror_mode": {
    "name": "ipython",
    "version": 3
   },
   "file_extension": ".py",
   "mimetype": "text/x-python",
   "name": "python",
   "nbconvert_exporter": "python",
   "pygments_lexer": "ipython3",
   "version": "3.8.2"
  }
 },
 "nbformat": 4,
 "nbformat_minor": 4
}
