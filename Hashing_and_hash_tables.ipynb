{
 "cells": [
  {
   "cell_type": "markdown",
   "metadata": {},
   "source": [
    "# Exercise 1: build a Word Cloud (dictionary counter)"
   ]
  },
  {
   "cell_type": "markdown",
   "metadata": {},
   "source": [
    "Remeber: string in python are immutable, so you can't change them in place!\n",
    "\n",
    "message[first_index:index] does not take into account many possibility, so the best way to do this is actually counting word_length and do [first_index:first_index+word_length]\n",
    "\n",
    "\n",
    "What if there are two empty spaces??"
   ]
  },
  {
   "cell_type": "code",
   "execution_count": 75,
   "metadata": {},
   "outputs": [],
   "source": [
    "import string\n",
    "\n",
    "def add_word_to_dictionary(dictionary: dict, word: str) -> dict:\n",
    "    \n",
    "    if word.lower() in dictionary.keys():\n",
    "        dictionary[word.lower()] += 1\n",
    "    else:\n",
    "        dictionary[word.lower()] = 1\n",
    "        \n",
    "    return dictionary\n",
    "    \n",
    "\n",
    "def build_a_word_cloud2(message: str) -> dict:\n",
    "\n",
    "    word_cloud = {}\n",
    "    first_index = 0\n",
    "    word_lenght = 0\n",
    "    upper_words = {'I': 'i', 'W':'w'}\n",
    "    \n",
    "    for index, character in enumerate(message):\n",
    "        \n",
    "        if character in string.punctuation:\n",
    "            character = ' '\n",
    "\n",
    "        if character == ' ':\n",
    "            \n",
    "            word = message[first_index:first_index + word_lenght]\n",
    "            \n",
    "            word_lenght = 0\n",
    "            first_index = index + 1\n",
    "            \n",
    "            add_word_to_dictionary(dictionary=word_cloud, word=word)\n",
    "           \n",
    "        else:\n",
    "            word_lenght += 1\n",
    "\n",
    "    return word_cloud\n"
   ]
  },
  {
   "cell_type": "code",
   "execution_count": 79,
   "metadata": {},
   "outputs": [
    {
     "data": {
      "text/plain": [
       "{'i': 1,\n",
       " 'am': 1,\n",
       " 'builing': 1,\n",
       " 'a': 1,\n",
       " 'word': 4,\n",
       " 'cloud': 1,\n",
       " 'for': 1,\n",
       " '': 3,\n",
       " 'would': 1,\n",
       " 'this': 1,\n",
       " 'work': 1,\n",
       " 'what': 1,\n",
       " 'if': 1,\n",
       " 'someone': 1,\n",
       " 'is': 1,\n",
       " 'called': 1}"
      ]
     },
     "execution_count": 79,
     "metadata": {},
     "output_type": "execute_result"
    }
   ],
   "source": [
    "message = 'I am builing a word word cloud for Word!  Would this work? what if someone is called word-cloud'\n",
    "word_cloud2 = build_a_word_cloud2(message)\n",
    "word_cloud2"
   ]
  },
  {
   "cell_type": "markdown",
   "metadata": {},
   "source": [
    "# Exercise 2: Permutation of a palindrome\n",
    "\n",
    "Write an efficient function that checks whether any permutation of an input string is a palindrome."
   ]
  },
  {
   "cell_type": "code",
   "execution_count": 4,
   "metadata": {},
   "outputs": [],
   "source": [
    "from collections import Counter"
   ]
  },
  {
   "cell_type": "code",
   "execution_count": 48,
   "metadata": {},
   "outputs": [],
   "source": [
    "def even_string(counter_dict: dict) -> bool:\n",
    "    \n",
    "    for value in counter_dict.values():\n",
    "        if value % 2 != 0:\n",
    "            return False \n",
    "    return True\n",
    "\n",
    "\n",
    "def odd_string(counter_dict: dict) -> bool:\n",
    "    \n",
    "    counter = 0\n",
    "    \n",
    "    for value in counter_dict.values():\n",
    "        if value % 2 != 0:\n",
    "            counter += 1\n",
    "            \n",
    "    if (counter == 1): \n",
    "        return True\n",
    "    else: \n",
    "        return False\n",
    "\n",
    "    \n",
    "def permutation_of_palindrome(input_string: str) -> bool:\n",
    "    '''\n",
    "    takes an input string\n",
    "    Return: bool, true if string is palindrome\n",
    "    '''\n",
    "    counter_dict = Counter(input_string)\n",
    "    \n",
    "    if len(input_string) % 2 == 0:\n",
    "        return even_string(counter_dict)\n",
    "    else:\n",
    "        return odd_string(counter_dict)"
   ]
  },
  {
   "cell_type": "code",
   "execution_count": 63,
   "metadata": {},
   "outputs": [],
   "source": [
    "def is_palindrome_with_set(input_string: str) -> bool:\n",
    "    \n",
    "    unpaired_letter = set()\n",
    "    \n",
    "    for letter in input_string:\n",
    "        if letter in unpaired_letter:\n",
    "            unpaired_letter.remove(letter)\n",
    "        else:\n",
    "            unpaired_letter.add(letter)\n",
    "    \n",
    "    if len(unpaired_letter) < 2:\n",
    "        return True\n",
    "    else: \n",
    "        return False"
   ]
  },
  {
   "cell_type": "code",
   "execution_count": 72,
   "metadata": {},
   "outputs": [],
   "source": [
    "input_string = 'cahcabbe'\n",
    "is_palindrome = permutation_of_palindrome(input_string)\n"
   ]
  },
  {
   "cell_type": "code",
   "execution_count": 73,
   "metadata": {},
   "outputs": [
    {
     "data": {
      "text/plain": [
       "False"
      ]
     },
     "execution_count": 73,
     "metadata": {},
     "output_type": "execute_result"
    }
   ],
   "source": [
    "is_palindrome"
   ]
  },
  {
   "cell_type": "markdown",
   "metadata": {},
   "source": [
    "# Exercise 3"
   ]
  },
  {
   "cell_type": "markdown",
   "metadata": {},
   "source": [
    "You created a game that is more popular than Angry Birds.\n",
    "\n",
    "Each round, players receive a score between 0 and 100, which you use to rank them from highest to lowest. So far you're using an algorithm that sorts in $$O(n\\lg{n})$$ time, but players are complaining that their rankings aren't updated fast enough. You need a faster sorting algorithm.\n",
    "\n",
    "Write a function that takes:\n",
    "\n",
    "  1. a list of unsorted_scores\n",
    "  2. the highest_possible_score in the game\n",
    " \n",
    "\n",
    "and returns a sorted list of scores in less than $$O(n\\lg{n})$$ time.\n",
    "\n",
    "SoLUTION = COUNT Sort\n",
    "\n",
    "For example:"
   ]
  },
  {
   "cell_type": "code",
   "execution_count": 29,
   "metadata": {},
   "outputs": [],
   "source": [
    "unsorted_scores = [37, 89, 41, 65, 91, 53]\n",
    "HIGHEST_POSSIBLE_SCORE = 100\n",
    "# Returns [91, 89, 65, 53, 41, 37]"
   ]
  },
  {
   "cell_type": "markdown",
   "metadata": {},
   "source": [
    "TimSort O(n lg{n}) time"
   ]
  },
  {
   "cell_type": "code",
   "execution_count": 43,
   "metadata": {},
   "outputs": [],
   "source": [
    "def sorted_score(unsorted_scores: list, HIGHEST_POSSIBLE_SCORE: int) -> list:\n",
    "    '''\n",
    "    take list of unsorted score\n",
    "    create a list of len hiegest count\n",
    "    filled the higest count where value of usorted score is the index and count of occurrence is the value\n",
    "    \n",
    "    create a sorted list\n",
    "    go through the unsorted. score, take the count of the value, put the value at the count index annd subract 1  \n",
    "    '''\n",
    "    \n",
    "    list_of_count = [0] * (HIGHEST_POSSIBLE_SCORE)\n",
    "    \n",
    "    for item in unsorted_scores:\n",
    "        list_of_count[item] += 1\n",
    "    \n",
    "    for index in range(1, len(list_of_count)):\n",
    "        list_of_count[index] += list_of_count[index - 1]\n",
    "        \n",
    "    sorted_list = [0] * (len(unsorted_scores) + 1)\n",
    "    \n",
    "    for value in unsorted_scores:\n",
    "        print('value', value)\n",
    "        index = list_of_count[value]\n",
    "        sorted_list[index] = value\n",
    "        list_of_count[value] -= 1\n",
    "\n",
    "    return sorted_list[1:]"
   ]
  },
  {
   "cell_type": "code",
   "execution_count": 44,
   "metadata": {},
   "outputs": [
    {
     "name": "stdout",
     "output_type": "stream",
     "text": [
      "value 37\n",
      "value 89\n",
      "value 41\n",
      "value 65\n",
      "value 91\n",
      "value 53\n"
     ]
    },
    {
     "data": {
      "text/plain": [
       "[37, 41, 53, 65, 89, 91]"
      ]
     },
     "execution_count": 44,
     "metadata": {},
     "output_type": "execute_result"
    }
   ],
   "source": [
    "sorted_score(unsorted_scores, HIGHEST_POSSIBLE_SCORE)"
   ]
  },
  {
   "cell_type": "code",
   "execution_count": null,
   "metadata": {},
   "outputs": [],
   "source": []
  }
 ],
 "metadata": {
  "kernelspec": {
   "display_name": "Python 3",
   "language": "python",
   "name": "python3"
  },
  "language_info": {
   "codemirror_mode": {
    "name": "ipython",
    "version": 3
   },
   "file_extension": ".py",
   "mimetype": "text/x-python",
   "name": "python",
   "nbconvert_exporter": "python",
   "pygments_lexer": "ipython3",
   "version": "3.8.2"
  }
 },
 "nbformat": 4,
 "nbformat_minor": 4
}
