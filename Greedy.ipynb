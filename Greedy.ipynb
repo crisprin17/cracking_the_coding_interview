{
 "cells": [
  {
   "cell_type": "markdown",
   "metadata": {},
   "source": [
    "# Stock prices\n",
    "Take the local maximum.\n",
    "\n",
    "Approach:\n",
    "  1. Keep count of maximum profit and update any time\n",
    "  2. Keep track of minimum price and update it"
   ]
  },
  {
   "cell_type": "code",
   "execution_count": 24,
   "metadata": {},
   "outputs": [],
   "source": [
    "stock_prices = [4, 5, 5, 8, 4, 0]"
   ]
  },
  {
   "cell_type": "code",
   "execution_count": 25,
   "metadata": {},
   "outputs": [],
   "source": [
    "def max_profit_calculator(stock_prices: list) -> int:\n",
    "    \n",
    "    max_profit = 0\n",
    "    min_price = stock_prices[0]\n",
    "    \n",
    "    for value in stock_prices:\n",
    "        current_profit = value - min_price\n",
    "        \n",
    "        max_profit = max(max_profit, current_profit)\n",
    "        min_price = min(min_price, value)\n",
    "        \n",
    "    return max_profit"
   ]
  },
  {
   "cell_type": "code",
   "execution_count": 26,
   "metadata": {},
   "outputs": [],
   "source": [
    "max_profit = max_profit_calculator(stock_prices=stock_prices)"
   ]
  },
  {
   "cell_type": "code",
   "execution_count": 27,
   "metadata": {},
   "outputs": [
    {
     "data": {
      "text/plain": [
       "4"
      ]
     },
     "execution_count": 27,
     "metadata": {},
     "output_type": "execute_result"
    }
   ],
   "source": [
    "max_profit"
   ]
  },
  {
   "cell_type": "markdown",
   "metadata": {},
   "source": [
    "# Highest product of 3\n",
    "\n",
    "Given a list of integers, find the highest product you can get from three of the integers.\n",
    "\n",
    "The input list_of_ints will always have at least three integers."
   ]
  },
  {
   "cell_type": "code",
   "execution_count": 23,
   "metadata": {},
   "outputs": [],
   "source": [
    "list_of_integers = [1, 61, 2, 8, 3, 4, 5, 17, 9, 6]"
   ]
  },
  {
   "cell_type": "code",
   "execution_count": 24,
   "metadata": {},
   "outputs": [],
   "source": [
    "def highest_product_of_three(list_of_integers: list) -> int:\n",
    "    '''\n",
    "    return highest product of three\n",
    "    '''\n",
    "    sorted_list = sorted(list_of_integers)\n",
    "    highest_product = sorted_list[-1] * sorted_list[-2] * sorted_list[-3]\n",
    "    return highest_product"
   ]
  },
  {
   "cell_type": "code",
   "execution_count": 34,
   "metadata": {},
   "outputs": [
    {
     "data": {
      "text/plain": [
       "9333"
      ]
     },
     "execution_count": 34,
     "metadata": {},
     "output_type": "execute_result"
    }
   ],
   "source": [
    "highest_product_of_three(list_of_integers)"
   ]
  },
  {
   "cell_type": "code",
   "execution_count": 33,
   "metadata": {},
   "outputs": [],
   "source": [
    "def highest_product_of_three(list_of_integers: list) -> int:\n",
    "    '''\n",
    "    return highest product of three\n",
    "    '''\n",
    "    \n",
    "    first_pointers = 0\n",
    "    second_pointers = 0 \n",
    "    third_pointers = 0\n",
    "    \n",
    "    for index, integers in enumerate(list_of_integers):\n",
    "        \n",
    "        if (list_of_integers[index] != second_pointers) and (list_of_integers[index] != third_pointers):\n",
    "            first_pointers = max(first_pointers, list_of_integers[index])\n",
    "            \n",
    "        if (list_of_integers[index] != first_pointers) and (list_of_integers[index] != third_pointers):    \n",
    "            second_pointers = max(second_pointers, list_of_integers[index])\n",
    "            \n",
    "        if (list_of_integers[index] != first_pointers) and (list_of_integers[index] != second_pointers):\n",
    "            third_pointers = max(third_pointers, list_of_integers[index])\n",
    "\n",
    "        \n",
    "    highest_product = first_pointers * second_pointers * third_pointers\n",
    "        \n",
    "    return highest_product"
   ]
  },
  {
   "cell_type": "code",
   "execution_count": null,
   "metadata": {},
   "outputs": [],
   "source": []
  },
  {
   "cell_type": "code",
   "execution_count": null,
   "metadata": {},
   "outputs": [],
   "source": []
  }
 ],
 "metadata": {
  "kernelspec": {
   "display_name": "Python 3",
   "language": "python",
   "name": "python3"
  },
  "language_info": {
   "codemirror_mode": {
    "name": "ipython",
    "version": 3
   },
   "file_extension": ".py",
   "mimetype": "text/x-python",
   "name": "python",
   "nbconvert_exporter": "python",
   "pygments_lexer": "ipython3",
   "version": "3.8.2"
  }
 },
 "nbformat": 4,
 "nbformat_minor": 4
}
