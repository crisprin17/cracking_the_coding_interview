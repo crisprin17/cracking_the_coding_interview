{
 "cells": [
  {
   "cell_type": "markdown",
   "metadata": {},
   "source": [
    "# Stock prices\n",
    "Take the local maximum.\n",
    "\n",
    "Approach:\n",
    "  1. Keep count of maximum profit and update any time\n",
    "  2. Keep track of minimum price and update it"
   ]
  },
  {
   "cell_type": "code",
   "execution_count": 24,
   "metadata": {},
   "outputs": [],
   "source": [
    "stock_prices = [4, 5, 5, 8, 4, 0]"
   ]
  },
  {
   "cell_type": "code",
   "execution_count": 25,
   "metadata": {},
   "outputs": [],
   "source": [
    "def max_profit_calculator(stock_prices: list) -> int:\n",
    "    \n",
    "    max_profit = 0\n",
    "    min_price = stock_prices[0]\n",
    "    \n",
    "    for value in stock_prices:\n",
    "        current_profit = value - min_price\n",
    "        \n",
    "        max_profit = max(max_profit, current_profit)\n",
    "        min_price = min(min_price, value)\n",
    "        \n",
    "    return max_profit"
   ]
  },
  {
   "cell_type": "code",
   "execution_count": 26,
   "metadata": {},
   "outputs": [],
   "source": [
    "max_profit = max_profit_calculator(stock_prices=stock_prices)"
   ]
  },
  {
   "cell_type": "code",
   "execution_count": 27,
   "metadata": {},
   "outputs": [
    {
     "data": {
      "text/plain": [
       "4"
      ]
     },
     "execution_count": 27,
     "metadata": {},
     "output_type": "execute_result"
    }
   ],
   "source": [
    "max_profit"
   ]
  }
 ],
 "metadata": {
  "kernelspec": {
   "display_name": "Python 3",
   "language": "python",
   "name": "python3"
  },
  "language_info": {
   "codemirror_mode": {
    "name": "ipython",
    "version": 3
   },
   "file_extension": ".py",
   "mimetype": "text/x-python",
   "name": "python",
   "nbconvert_exporter": "python",
   "pygments_lexer": "ipython3",
   "version": "3.8.2"
  }
 },
 "nbformat": 4,
 "nbformat_minor": 4
}
