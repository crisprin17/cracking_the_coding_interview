{
 "cells": [
  {
   "cell_type": "code",
   "execution_count": 1,
   "metadata": {},
   "outputs": [],
   "source": [
    "class binary_tree(object):\n",
    "    def __init__(self, value):\n",
    "        self.node = value\n",
    "        self.left = None\n",
    "        self.right = None\n",
    "        \n",
    "    def insert_left(self, value):\n",
    "        self.left = binary_tree(value)\n",
    "        return self.left\n",
    "    \n",
    "    def insert_right(self, value):\n",
    "        self.right = binary_tree(value)\n",
    "        return self.right\n",
    "    "
   ]
  },
  {
   "cell_type": "code",
   "execution_count": 52,
   "metadata": {},
   "outputs": [],
   "source": [
    "tree = binary_tree(10)\n",
    "tree.left = binary_tree(7)\n",
    "tree.left.left = binary_tree(5)\n",
    "tree.left.right = binary_tree(8)\n",
    "tree.right = binary_tree(12)\n",
    "tree.right.left = binary_tree(9)\n",
    "tree.right.right = binary_tree(15)\n",
    "tree.right.right.right = binary_tree(17)"
   ]
  },
  {
   "cell_type": "markdown",
   "metadata": {},
   "source": [
    "# Print a tree"
   ]
  },
  {
   "cell_type": "code",
   "execution_count": 6,
   "metadata": {},
   "outputs": [],
   "source": [
    "def print_leaf_node_of_tree(node):\n",
    "    # leafe node\n",
    "    if (node.left is None) and (node.right is None):\n",
    "        print(node.node)\n",
    "    # left recursion\n",
    "    if (node.left):\n",
    "        print_leaf_node_of_tree(node.left)\n",
    "    # right recursion\n",
    "    if (node.right):\n",
    "        print_leaf_node_of_tree(node.right)"
   ]
  },
  {
   "cell_type": "code",
   "execution_count": 7,
   "metadata": {},
   "outputs": [],
   "source": [
    "def print_inorder_tree(node):\n",
    "    if (node):\n",
    "        print_in_order_tree(node.left)\n",
    "        print(node.node)\n",
    "        print_in_order_tree(node.right)"
   ]
  },
  {
   "cell_type": "code",
   "execution_count": 8,
   "metadata": {},
   "outputs": [],
   "source": [
    "def print_preorder_tree(node):\n",
    "    if (node):\n",
    "        print(node.node)\n",
    "        print_in_order_tree(node.left)\n",
    "        print_in_order_tree(node.right)"
   ]
  },
  {
   "cell_type": "code",
   "execution_count": 9,
   "metadata": {},
   "outputs": [],
   "source": [
    "def print_postorder_tree(node):\n",
    "    if (node):\n",
    "        print_in_order_tree(node.left)\n",
    "        print_in_order_tree(node.right)\n",
    "        print(node.node)"
   ]
  },
  {
   "cell_type": "markdown",
   "metadata": {},
   "source": [
    "# Count the number of node in a tree"
   ]
  },
  {
   "cell_type": "code",
   "execution_count": 10,
   "metadata": {},
   "outputs": [],
   "source": [
    "def count_number_of_nodes(node) -> int:\n",
    "    # if you are on a leaf node return 1\n",
    "    if (node.left is None) and (node.right is None):\n",
    "        print('leaf node =', node.node)\n",
    "        return 1\n",
    "    \n",
    "    print('I am now on node:', node.node)\n",
    "    count_left_node = 0\n",
    "    if (node.left):\n",
    "        count_left_node = count_number_of_nodes(node.left)\n",
    "        print('node. value =', node.node, 'count =', count_left_node)\n",
    "    \n",
    "    count_right_node = 0\n",
    "    if (node.right):\n",
    "        count_right_node = count_number_of_nodes(node.right) \n",
    "        print('node. value =', node.node, 'count =', count_right_node)\n",
    "        \n",
    "    # the total count takes from the left and the right\n",
    "    # but you need to add one to take into account the node you are on\n",
    "    total_count_node = count_left_node + count_right_node + 1\n",
    "    print('total count:', total_count_node)\n",
    "    \n",
    "    return total_count_node"
   ]
  },
  {
   "cell_type": "code",
   "execution_count": 11,
   "metadata": {},
   "outputs": [
    {
     "name": "stdout",
     "output_type": "stream",
     "text": [
      "I am now on node: 10\n",
      "I am now on node: 7\n",
      "leaf node = 5\n",
      "node. value = 7 count = 1\n",
      "leaf node = 8\n",
      "node. value = 7 count = 1\n",
      "total count: 3\n",
      "node. value = 10 count = 3\n",
      "I am now on node: 12\n",
      "leaf node = 9\n",
      "node. value = 12 count = 1\n",
      "I am now on node: 15\n",
      "leaf node = 17\n",
      "node. value = 15 count = 1\n",
      "total count: 2\n",
      "node. value = 12 count = 2\n",
      "total count: 4\n",
      "node. value = 10 count = 4\n",
      "total count: 8\n"
     ]
    },
    {
     "data": {
      "text/plain": [
       "8"
      ]
     },
     "execution_count": 11,
     "metadata": {},
     "output_type": "execute_result"
    }
   ],
   "source": [
    "count_number_of_nodes(tree)"
   ]
  },
  {
   "cell_type": "markdown",
   "metadata": {},
   "source": [
    "# Sum the value of the node\n",
    "In order transversal: left -> root -> right"
   ]
  },
  {
   "cell_type": "code",
   "execution_count": 12,
   "metadata": {},
   "outputs": [],
   "source": [
    "def sum_of_the_node_values(node) -> int:\n",
    "    # if I am on a leaf node return the value\n",
    "    if (node.left is None) and (node.right is None):\n",
    "        return node.node\n",
    "    \n",
    "    print('I am now on node:', node.node)\n",
    "    sum_of_values_left = 0\n",
    "    if (node.left):\n",
    "        # call the function recursively left \n",
    "        sum_of_values_left = sum_of_the_node_values(node.left)\n",
    "        print('Node value = ', node.node, 'sum of left =', sum_of_values_left)\n",
    "        \n",
    "    sum_of_values_right = 0\n",
    "    if (node.right):\n",
    "        # call the sum recurvsively right\n",
    "        sum_of_values_right = sum_of_the_node_values(node.right)\n",
    "        print('Node value = ', node.node, 'sum of right =', sum_of_values_right)\n",
    "     \n",
    "    # the sum value sum everything on the left and everything on the right \n",
    "    # but then you need to add the value for the one you are on\n",
    "    \n",
    "    sum_of_values = node.node + sum_of_values_left + sum_of_values_right\n",
    "    print('node: ', node.node, 'sum of left: ', sum_of_values_left, 'sum of right: ', sum_of_values_right)\n",
    "    print('sum_of_values', sum_of_values)\n",
    "    return sum_of_values"
   ]
  },
  {
   "cell_type": "code",
   "execution_count": 13,
   "metadata": {},
   "outputs": [
    {
     "name": "stdout",
     "output_type": "stream",
     "text": [
      "I am now on node: 10\n",
      "I am now on node: 7\n",
      "Node value =  7 sum of left = 5\n",
      "Node value =  7 sum of right = 8\n",
      "node:  7 sum of left:  5 sum of right:  8\n",
      "sum_of_values 20\n",
      "Node value =  10 sum of left = 20\n",
      "I am now on node: 12\n",
      "Node value =  12 sum of left = 9\n",
      "I am now on node: 15\n",
      "Node value =  15 sum of right = 17\n",
      "node:  15 sum of left:  0 sum of right:  17\n",
      "sum_of_values 32\n",
      "Node value =  12 sum of right = 32\n",
      "node:  12 sum of left:  9 sum of right:  32\n",
      "sum_of_values 53\n",
      "Node value =  10 sum of right = 53\n",
      "node:  10 sum of left:  20 sum of right:  53\n",
      "sum_of_values 83\n"
     ]
    },
    {
     "data": {
      "text/plain": [
       "83"
      ]
     },
     "execution_count": 13,
     "metadata": {},
     "output_type": "execute_result"
    }
   ],
   "source": [
    "sum_of_the_node_values(tree)"
   ]
  },
  {
   "cell_type": "markdown",
   "metadata": {},
   "source": [
    "# Check to see if the tree contains a value\n",
    "1. a normal tree\n",
    "2. if it is a binary search tree"
   ]
  },
  {
   "cell_type": "markdown",
   "metadata": {},
   "source": [
    "# The height of a tree\n",
    "\n",
    "Save the depth of the tree as I go.\n"
   ]
  },
  {
   "cell_type": "code",
   "execution_count": 16,
   "metadata": {},
   "outputs": [],
   "source": [
    "def height_of_a_tree(node) -> int:\n",
    "    \n",
    "    # if we have a leaf node\n",
    "    if (node.left is None) and (node.right is None):\n",
    "        return 0\n",
    "    # we go on the right\n",
    "    depth_right = 0\n",
    "    if (node.right):\n",
    "        # we call. the function where the new node is node right\n",
    "        # this will keep calling the function until node right is not empty\n",
    "        depth_right = height_of_a_tree(node.right) + 1\n",
    "        \n",
    "    depth_left = 0\n",
    "    if (node.left):\n",
    "        depth_left = height_of_a_tree(node.left) + 1\n",
    "        \n",
    "    maximum_depth = max(depth_left, depth_right)\n",
    "    \n",
    "    return maximum_depth"
   ]
  },
  {
   "cell_type": "code",
   "execution_count": 17,
   "metadata": {},
   "outputs": [
    {
     "data": {
      "text/plain": [
       "3"
      ]
     },
     "execution_count": 17,
     "metadata": {},
     "output_type": "execute_result"
    }
   ],
   "source": [
    "height_of_a_tree(tree)"
   ]
  },
  {
   "cell_type": "markdown",
   "metadata": {},
   "source": [
    "# Binary tree search"
   ]
  },
  {
   "cell_type": "markdown",
   "metadata": {},
   "source": [
    "Condition to be binary search tree:\n",
    "\n",
    "    1. node.vale > All the left value\n",
    "    2. node.value < All the right value\n",
    "    \n",
    "**SOLUTION: this is true if for each node is true**\n",
    "\n",
    "so in every step i need to check that the value of the node is bigger than the bigger value from the left of the tree and that the value of the node is smaller than the smallest value on the right"
   ]
  },
  {
   "cell_type": "code",
   "execution_count": 80,
   "metadata": {},
   "outputs": [],
   "source": [
    "def is_binary_search_tree(node, biggest_on_the_left, smallest_on_the_right) -> bool:\n",
    "    if node is None:\n",
    "        return True\n",
    "    \n",
    "    if (node.node >= smallest_on_the_right or node.node <= biggest_on_the_left):\n",
    "        return False\n",
    "    else:\n",
    "        return (is_binary_search_tree(node.left, biggest_on_the_left, node.node) and is_binary_search_tree(node.right, node.node, smallest_on_the_right))"
   ]
  },
  {
   "cell_type": "code",
   "execution_count": 87,
   "metadata": {},
   "outputs": [],
   "source": [
    "tree = binary_tree(4)\n",
    "tree.left = binary_tree(2)\n",
    "tree.left.left = binary_tree(1)\n",
    "tree.left.right = binary_tree(3)\n",
    "tree.right = binary_tree(5)\n"
   ]
  },
  {
   "cell_type": "code",
   "execution_count": 88,
   "metadata": {},
   "outputs": [
    {
     "data": {
      "text/plain": [
       "True"
      ]
     },
     "execution_count": 88,
     "metadata": {},
     "output_type": "execute_result"
    }
   ],
   "source": [
    "is_binary_search_tree(tree, 0, 1000)"
   ]
  },
  {
   "cell_type": "code",
   "execution_count": null,
   "metadata": {},
   "outputs": [],
   "source": []
  }
 ],
 "metadata": {
  "kernelspec": {
   "display_name": "Python 3",
   "language": "python",
   "name": "python3"
  },
  "language_info": {
   "codemirror_mode": {
    "name": "ipython",
    "version": 3
   },
   "file_extension": ".py",
   "mimetype": "text/x-python",
   "name": "python",
   "nbconvert_exporter": "python",
   "pygments_lexer": "ipython3",
   "version": "3.8.2"
  }
 },
 "nbformat": 4,
 "nbformat_minor": 4
}
