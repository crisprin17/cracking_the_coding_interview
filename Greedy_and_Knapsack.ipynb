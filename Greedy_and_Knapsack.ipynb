{
 "cells": [
  {
   "cell_type": "markdown",
   "metadata": {},
   "source": [
    "# Greedy vs Knapsack \n",
    "\n",
    "Local vs Global minimum.\n"
   ]
  },
  {
   "cell_type": "markdown",
   "metadata": {},
   "source": [
    "## Merging meeting = local minimum\n",
    "\n",
    "Take a tuple of integers with (start_time, end_time).\n",
    "Write a function merge_ranges() that takes a list of multiple meeting time ranges and returns a list of condensed ranges.\n",
    "Do not assume the meetings are in order. The meeting times are coming from multiple teams.\n",
    "Write a solution that's efficient even when we can't put a nice upper bound on the numbers representing our time ranges\n",
    "\n",
    "***SOLUTION:\n",
    "THIS IS A GREEDY ALGORITHM, each point I'll take the best point and go on.***\n",
    "1. Sort the tuple\n",
    "2. While I traverse the tuple, each step I as if `start_time_meeting_2 > or < end_time_meeting1`\n",
    "3. If `start_time_meeting_2 > end_time_meeting1` then I store the tuple (start_meeting_1, end_meeting_2)\n",
    "4. If `start_time_meeting_2 < end_time_meeting1` then I update the end_meeting_time1 with end_meeting_time2"
   ]
  },
  {
   "cell_type": "code",
   "execution_count": 1,
   "metadata": {},
   "outputs": [],
   "source": [
    "meeting = [(0, 1), (3, 5), (4, 8), (10, 12), (9, 10)]\n",
    "output = [(0, 1), (3, 8), (9, 12)]"
   ]
  },
  {
   "cell_type": "code",
   "execution_count": 18,
   "metadata": {},
   "outputs": [],
   "source": [
    "def merge_ranges(meeting: list) -> list:\n",
    "    \n",
    "    meeting_sorted = sorted(meeting, key=lambda x: x[0])\n",
    "    start_time, end_time = meeting[0]\n",
    "    meeting_range_list = [] \n",
    "    \n",
    "    for times in meeting_sorted:\n",
    "        current_start, current_end = times\n",
    "        if current_start <= end_time:\n",
    "            end_time = current_end\n",
    "            \n",
    "        elif current_start > end_time:\n",
    "            meeting_range_list.append((start_time, end_time))\n",
    "            \n",
    "            start_time = current_start\n",
    "            end_time = current_end\n",
    "            \n",
    "    meeting_range_list.append((start_time, end_time))\n",
    "    return meeting_range_list\n",
    "    "
   ]
  },
  {
   "cell_type": "code",
   "execution_count": 19,
   "metadata": {},
   "outputs": [
    {
     "name": "stdout",
     "output_type": "stream",
     "text": [
      "[(0, 1), (3, 8), (9, 12)]\n"
     ]
    }
   ],
   "source": [
    "print(merge_ranges(meeting))"
   ]
  },
  {
   "cell_type": "markdown",
   "metadata": {},
   "source": [
    "## Cake Thief = global minimum\n",
    "\n",
    "While Queen Elizabeth has a *limited number of types* of cake, she has an *unlimited supply* of each type.\n",
    "\n",
    "Each type of cake has a weight and a value, stored in a tuple with two indices:\n",
    "1. An integer representing the weight of the cake in kilograms\n",
    "2. An integer representing the monetary value of the cake in British shillings\n",
    "\n",
    "Write a function max_duffel_bag_value() that takes a list of cake type tuples and a weight capacity, and returns the maximum monetary value the duffel bag can hold."
   ]
  },
  {
   "cell_type": "markdown",
   "metadata": {},
   "source": [
    "**SOLUTION: the unbounded knapsack problem, looking for global maximum**\n",
    "THINGS TO CONSIDER\n",
    "1. You have to think about the highest profit -> value/capacity\n",
    "2. Each step you have to ask yourself if you should take it or not by taking into account also how much is the remaining value\n",
    "\n",
    "\n",
    "*EXaMPLE:*\n",
    "*3kg capacicty and three possibility = [(1, 4) (2, 3) (3, 6)]*\n",
    "\n",
    "*1: maximum capacity = capacity 3 -> profit = 6*\n",
    "\n",
    "*2: maximum capacity = capacity 2 + capacity 1 -> profit = 7*\n",
    "\n",
    "*3: maximum capacity = capacity 1 * 3 -> profit = 12*\n",
    "    \n",
    "Function:\n",
    "1. Bottom up approach\n",
    "2. max value at every capacity from 0 to weight_capacity\n",
    "3. max_values_at_capacities where the indices are capacities and each value is the max value at that capacity\n",
    "4. The best monetary value we can get if we take a given cake is simply:\n",
    "        a. that cake's value, plus\n",
    "        b. the best monetary value we can carry in our remaining duffel bag capacity after taking the cake (stored in max_values_at_capacities)"
   ]
  },
  {
   "cell_type": "code",
   "execution_count": 66,
   "metadata": {},
   "outputs": [],
   "source": [
    "cake_tuples = [(7, 160), (3, 90), (2, 15)]\n",
    "max_capacity    = 20\n",
    "\n",
    "# Returns 555 (6 of the middle type of cake and 1 of the last type of cake)"
   ]
  },
  {
   "cell_type": "code",
   "execution_count": 67,
   "metadata": {},
   "outputs": [],
   "source": [
    "def max_duffel_bag_value(cake_tuples: list, max_capacity: int) -> int:\n",
    "    # We make a list to hold the maximum possible value at every\n",
    "    # duffel bag weight capacity from 0 to weight_capacity\n",
    "    # starting each index with value 0\n",
    "    profit_for_each_capacity = [0] * (max_capacity + 1)\n",
    "    \n",
    "    for current_capacity in range(max_capacity + 1):\n",
    "        # calculate the max value for each capacity\n",
    "        current_max_value = 0\n",
    "        \n",
    "        \n",
    "        # loop over the tuple cake \n",
    "        for cake_weight, cake_value in cake_tuples:\n",
    "            \n",
    "            # If the current cake weighs as much or less than the\n",
    "            # current weight capacity it's possible taking the cake\n",
    "            # would get a better value\n",
    "            if cake_weight <= current_capacity:\n",
    "                \n",
    "                # So we check: should we use the cake or not?\n",
    "                # If we use the cake, the most kilograms we can include in\n",
    "                # addition to the cake we're adding is the current capacity\n",
    "                # minus the cake's weight. We find the max value at that\n",
    "                # integer capacity in our list max_values_at_capacities\n",
    "                \n",
    "                max_value_using_cake = (\n",
    "                    cake_value\n",
    "                    + profit_for_each_capacity[current_capacity - cake_weight]\n",
    "                )\n",
    "\n",
    "                 # Now we see if it's worth taking the cake. how does the\n",
    "                # value with the cake compare to the current_max_value?\n",
    "                \n",
    "                current_max_value = max(max_value_using_cake,\n",
    "                                        current_max_value)\n",
    "                \n",
    "         # Add each capacity's max value to our list so we can use them\n",
    "        # when calculating all the remaining capacities\n",
    "        profit_for_each_capacity[current_capacity] = current_max_value\n",
    "\n",
    "    return profit_for_each_capacity[max_capacity]\n",
    "        "
   ]
  },
  {
   "cell_type": "code",
   "execution_count": 68,
   "metadata": {},
   "outputs": [
    {
     "data": {
      "text/plain": [
       "555"
      ]
     },
     "execution_count": 68,
     "metadata": {},
     "output_type": "execute_result"
    }
   ],
   "source": [
    "max_duffel_bag_value(cake_tuples, max_capacity)"
   ]
  },
  {
   "cell_type": "markdown",
   "metadata": {},
   "source": [
    "## EXERCISE Making change"
   ]
  },
  {
   "cell_type": "markdown",
   "metadata": {},
   "source": [
    "They found out you're a programmer and asked you to solve something they've been wondering for a long time.\n",
    "\n",
    "Write a function that, given:\n",
    "\n",
    "    1. an amount of money\n",
    "    2. a list of coin denominations\n",
    "    \n",
    "computes the number of ways to make the amount of money with coins of the available denominations.\n",
    "\n",
    "Example: for amount=4 (4¢) and denominations=[1,2,3] (1¢, 2¢ and 3¢), your program would output 4—the number of ways to make 4¢ with those denominations:\n",
    "\n",
    "1¢, 1¢, 1¢, 1¢\n",
    "1¢, 1¢, 2¢\n",
    "1¢, 3¢\n",
    "2¢, 2¢"
   ]
  },
  {
   "cell_type": "code",
   "execution_count": 42,
   "metadata": {},
   "outputs": [],
   "source": [
    "denominations=[1, 2, 3]\n",
    "max_amount=4"
   ]
  },
  {
   "cell_type": "code",
   "execution_count": 63,
   "metadata": {},
   "outputs": [],
   "source": [
    "def create_change_lookup(max_amount: int) -> dict:\n",
    "    change_dictionary = {}\n",
    "    \n",
    "    for change in range(1, max_amount):\n",
    "        rest = max_amount - change\n",
    "        change_dictionary[change] = rest\n",
    "        \n",
    "    return change_dictionary\n",
    "    \n",
    "def making_change(denominations: list, max_amount: int) -> list:\n",
    "    '''\n",
    "    How to get to 4 with [1, 2, 3]\n",
    "    1) 4 - 1 : remain 3 \n",
    "    2) 3 - 1 : remain 2\n",
    "    3) 2 - 1: remain 1\n",
    "    4) 2- 2: remain 2\n",
    "    2) 3 - 3 : remain 0 -> return it\n",
    "    '''\n",
    "    \n",
    "    change_dictionary = create_change_lookup(max_amount)\n",
    "    \n",
    "    possible_change = []\n",
    "    \n",
    "    for item in denominations:\n",
    "        possible_change.append(item)\n",
    "        remaining_change = max_amount - item\n",
    "        if remaining_change \n",
    "    "
   ]
  },
  {
   "cell_type": "code",
   "execution_count": 62,
   "metadata": {},
   "outputs": [
    {
     "data": {
      "text/plain": [
       "{1: 3, 2: 2, 3: 1}"
      ]
     },
     "execution_count": 62,
     "metadata": {},
     "output_type": "execute_result"
    }
   ],
   "source": [
    "making_change(denominations, amount)"
   ]
  },
  {
   "cell_type": "markdown",
   "metadata": {},
   "source": [
    "## Exercise: Making the change"
   ]
  },
  {
   "cell_type": "code",
   "execution_count": 77,
   "metadata": {},
   "outputs": [],
   "source": [
    "amount = 5\n",
    "denominations = [1, 3, 5]"
   ]
  },
  {
   "cell_type": "code",
   "execution_count": 78,
   "metadata": {},
   "outputs": [],
   "source": [
    "def change_possibilities_bottom_up(amount, denominations):\n",
    "\n",
    "    ways_of_doing_n_cents = [0] * (amount + 1)\n",
    "    ways_of_doing_n_cents[0] = 1\n",
    "\n",
    "    for coin in denominations:\n",
    "\n",
    "        for higher_amount in range(coin, amount + 1):\n",
    "\n",
    "            higher_amount_remainder = higher_amount - coin\n",
    "            ways_of_doing_n_cents[higher_amount] += (\n",
    "                ways_of_doing_n_cents[higher_amount_remainder]\n",
    "            )\n",
    "\n",
    "    return ways_of_doing_n_cents[amount]"
   ]
  },
  {
   "cell_type": "code",
   "execution_count": 79,
   "metadata": {},
   "outputs": [
    {
     "data": {
      "text/plain": [
       "3"
      ]
     },
     "execution_count": 79,
     "metadata": {},
     "output_type": "execute_result"
    }
   ],
   "source": [
    "change_possibilities_bottom_up(amount, denominations)"
   ]
  },
  {
   "cell_type": "code",
   "execution_count": null,
   "metadata": {},
   "outputs": [],
   "source": []
  }
 ],
 "metadata": {
  "kernelspec": {
   "display_name": "Python 3",
   "language": "python",
   "name": "python3"
  },
  "language_info": {
   "codemirror_mode": {
    "name": "ipython",
    "version": 3
   },
   "file_extension": ".py",
   "mimetype": "text/x-python",
   "name": "python",
   "nbconvert_exporter": "python",
   "pygments_lexer": "ipython3",
   "version": "3.8.2"
  }
 },
 "nbformat": 4,
 "nbformat_minor": 4
}
